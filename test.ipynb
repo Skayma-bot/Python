{
 "cells": [
  {
   "attachments": {},
   "cell_type": "markdown",
   "metadata": {},
   "source": [
    "Connexion + création du data frame via la base de donnés Mysql"
   ]
  },
  {
   "cell_type": "code",
   "execution_count": 2,
   "metadata": {},
   "outputs": [
    {
     "name": "stdout",
     "output_type": "stream",
     "text": [
      "                    COL 1                   COL 2            COL 3  \\\n",
      "0                 airline  avail_seat_km_per_week  incidents_85_99   \n",
      "1              Aer Lingus               320906734                2   \n",
      "2               Aeroflot*              1197672318               76   \n",
      "3   Aerolineas Argentinas               385803648                6   \n",
      "4             Aeromexico*               596871813                3   \n",
      "5              Air Canada              1865253802                2   \n",
      "6              Air France              3004002661               14   \n",
      "7              Air India*               869253552                2   \n",
      "8        Air New Zealand*               710174817                3   \n",
      "9        Alaska Airlines*               965346773                5   \n",
      "10               Alitalia               698012498                7   \n",
      "11     All Nippon Airways              1841234177                3   \n",
      "12              American*              5228357340               21   \n",
      "13      Austrian Airlines               358239823                1   \n",
      "14                Avianca               396922563                5   \n",
      "15       British Airways*              3179760952                4   \n",
      "16        Cathay Pacific*              2582459303                0   \n",
      "17         China Airlines               813216487               12   \n",
      "18                 Condor               417982610                2   \n",
      "19                   COPA               550491507                3   \n",
      "20     Delta / Northwest*              6525658894               24   \n",
      "21               Egyptair               557699891                8   \n",
      "22                  El Al               335448023                1   \n",
      "23     Ethiopian Airlines               488560643               25   \n",
      "24                Finnair               506464950                1   \n",
      "25       Garuda Indonesia               613356665               10   \n",
      "\n",
      "                    COL 4             COL 5            COL 6  \\\n",
      "0   fatal_accidents_85_99  fatalities_85_99  incidents_00_14   \n",
      "1                       0                 0                0   \n",
      "2                      14               128                6   \n",
      "3                       0                 0                1   \n",
      "4                       1                64                5   \n",
      "5                       0                 0                2   \n",
      "6                       4                79                6   \n",
      "7                       1               329                4   \n",
      "8                       0                 0                5   \n",
      "9                       0                 0                5   \n",
      "10                      2                50                4   \n",
      "11                      1                 1                7   \n",
      "12                      5               101               17   \n",
      "13                      0                 0                1   \n",
      "14                      3               323                0   \n",
      "15                      0                 0                6   \n",
      "16                      0                 0                2   \n",
      "17                      6               535                2   \n",
      "18                      1                16                0   \n",
      "19                      1                47                0   \n",
      "20                     12               407               24   \n",
      "21                      3               282                4   \n",
      "22                      1                 4                1   \n",
      "23                      5               167                5   \n",
      "24                      0                 0                0   \n",
      "25                      3               260                4   \n",
      "\n",
      "                    COL 7             COL 8  \n",
      "0   fatal_accidents_00_14  fatalities_00_14  \n",
      "1                       0                 0  \n",
      "2                       1                88  \n",
      "3                       0                 0  \n",
      "4                       0                 0  \n",
      "5                       0                 0  \n",
      "6                       2               337  \n",
      "7                       1               158  \n",
      "8                       1                 7  \n",
      "9                       1                88  \n",
      "10                      0                 0  \n",
      "11                      0                 0  \n",
      "12                      3               416  \n",
      "13                      0                 0  \n",
      "14                      0                 0  \n",
      "15                      0                 0  \n",
      "16                      0                 0  \n",
      "17                      1               225  \n",
      "18                      0                 0  \n",
      "19                      0                 0  \n",
      "20                      2                51  \n",
      "21                      1                14  \n",
      "22                      0                 0  \n",
      "23                      2                92  \n",
      "24                      0                 0  \n",
      "25                      2                22  \n"
     ]
    },
    {
     "name": "stderr",
     "output_type": "stream",
     "text": [
      "c:\\Users\\isabe\\anaconda3\\lib\\site-packages\\pandas\\io\\sql.py:762: UserWarning: pandas only support SQLAlchemy connectable(engine/connection) ordatabase string URI or sqlite3 DBAPI2 connectionother DBAPI2 objects are not tested, please consider using SQLAlchemy\n",
      "  warnings.warn(\n"
     ]
    }
   ],
   "source": [
    "import pandas as pd \n",
    "import numpy as np \n",
    "import pyodbc\n",
    "\n",
    "server = 'localhost' \n",
    "database = 'datananalysetest' \n",
    "username = 'root' \n",
    "password = ''\n",
    "\n",
    "cnxn = pyodbc.connect(f\"Driver={{MySQL ODBC 8.0 Unicode Driver}};Server={server};Database={database};Uid={username};Pwd={password};\")\n",
    "cursor = cnxn.cursor()\n",
    "\n",
    "query = \"SELECT * FROM airline_safety\" \n",
    "df = pd.read_sql(query, cnxn)\n",
    "print(df.head(26))\n",
    "\n"
   ]
  },
  {
   "attachments": {},
   "cell_type": "markdown",
   "metadata": {},
   "source": [
    "Utilisation maintenant de fichier excel , pour effectuer le traitement demander lors du stage .\n",
    "Test avec 2 Metric Group ILOMN et Ressources State"
   ]
  },
  {
   "attachments": {},
   "cell_type": "markdown",
   "metadata": {},
   "source": [
    "ILOMN"
   ]
  },
  {
   "cell_type": "code",
   "execution_count": 8,
   "metadata": {},
   "outputs": [
    {
     "name": "stderr",
     "output_type": "stream",
     "text": [
      "C:\\Users\\isabe\\AppData\\Local\\Temp\\ipykernel_23440\\1197120455.py:12: SettingWithCopyWarning: \n",
      "A value is trying to be set on a copy of a slice from a DataFrame.\n",
      "Try using .loc[row_indexer,col_indexer] = value instead\n",
      "\n",
      "See the caveats in the documentation: https://pandas.pydata.org/pandas-docs/stable/user_guide/indexing.html#returning-a-view-versus-a-copy\n",
      "  df.at[index,'CodeApplication'] = \"XH_\"\n",
      "C:\\Users\\isabe\\AppData\\Local\\Temp\\ipykernel_23440\\1197120455.py:15: SettingWithCopyWarning: \n",
      "A value is trying to be set on a copy of a slice from a DataFrame.\n",
      "Try using .loc[row_indexer,col_indexer] = value instead\n",
      "\n",
      "See the caveats in the documentation: https://pandas.pydata.org/pandas-docs/stable/user_guide/indexing.html#returning-a-view-versus-a-copy\n",
      "  df.at[index,'HOST'] = host\n"
     ]
    }
   ],
   "source": [
    "import pandas as pd\n",
    "import numpy as np\n",
    "\n",
    "df_oem = pd.read_excel('C:/Users/isabe/Python/Excel/AlarmesOem.xlsx',engine='openpyxl')\n",
    "dfapp_exa = pd.read_excel(\"C:/Users/isabe/Python/Excel/AppliExa.xlsx\",engine='openpyxl')\n",
    "\n",
    "df = df_oem[(df_oem['MetricGroup'] == 'ILOM SNMP Test Trap')]\n",
    "for index,row in df.iterrows():\n",
    "    host = df.at[index,'TargetName'].split('-',1)[0]\n",
    "    code_app = (dfapp_exa.loc[(dfapp_exa['VM'].str.upper() == host.upper())][\"CodeApplication\"].head(1)).values\n",
    "    if len(code_app) == 0 : \n",
    "        df.at[index,'CodeApplication'] = \"XH_\"\n",
    "    else :\n",
    "        df.at[index,'CodeApplication'] = code_app[0]\n",
    "    df.at[index,'HOST'] = host\n",
    "  \n",
    "df = df.loc[:, ~df.columns.str.contains('^Unnamed')]\n",
    "df.to_csv(\"./Sortie_CSV/Alarmes_OEM_2022_ILOMTest.csv\")"
   ]
  },
  {
   "attachments": {},
   "cell_type": "markdown",
   "metadata": {},
   "source": [
    "Metric Group Ressources State"
   ]
  },
  {
   "cell_type": "code",
   "execution_count": 2,
   "metadata": {},
   "outputs": [
    {
     "name": "stderr",
     "output_type": "stream",
     "text": [
      "C:\\Users\\isabe\\AppData\\Local\\Temp\\ipykernel_13560\\1851924740.py:10: SettingWithCopyWarning: \n",
      "A value is trying to be set on a copy of a slice from a DataFrame.\n",
      "Try using .loc[row_indexer,col_indexer] = value instead\n",
      "\n",
      "See the caveats in the documentation: https://pandas.pydata.org/pandas-docs/stable/user_guide/indexing.html#returning-a-view-versus-a-copy\n",
      "  df.at[index , 'Cluster'] = row['TargetName'] #On met les donnés de targeName à l'endroit spécifier\n",
      "C:\\Users\\isabe\\AppData\\Local\\Temp\\ipykernel_13560\\1851924740.py:24: SettingWithCopyWarning: \n",
      "A value is trying to be set on a copy of a slice from a DataFrame.\n",
      "Try using .loc[row_indexer,col_indexer] = value instead\n",
      "\n",
      "See the caveats in the documentation: https://pandas.pydata.org/pandas-docs/stable/user_guide/indexing.html#returning-a-view-versus-a-copy\n",
      "  df.at[index,'CodeApplication'] = code_app #On ecrit donc le code CodeApp à cet endroit\n"
     ]
    }
   ],
   "source": [
    "import pandas as pd\n",
    "import numpy as np\n",
    "\n",
    "dfapp_exa = pd.read_excel(\"Excel/AppliExa.xlsx\",engine='openpyxl')\n",
    "df_oem = pd.read_excel('Excel/AlarmesOem.xlsx',engine='openpyxl')\n",
    "\n",
    "df = df_oem[(df_oem ['MetricGroup'] == 'Resource State')] #Récupération du MetricGroup\n",
    "\n",
    "for index, row in df.iterrows(): #Pour chaque index dans la colonne dans le dataframe\n",
    "    df.at[index , 'Cluster'] = row['TargetName'] #On met les donnés de targeName à l'endroit spécifier\n",
    "    cluster1 = row['TargetName']\n",
    "    #On récupére le codeApplication ou le cluster est égale aux cluster de notre Alarmes et ensuite on récupére \n",
    "    #le CodeApplication . \n",
    "    code_app = (dfapp_exa.loc[(dfapp_exa['Cluster'].str.upper() == cluster1.upper()) ][\"CodeApplication\"]).head(1).values \n",
    "\n",
    "    if len(code_app) == 0 :\n",
    "        code_app = (dfapp_exa.loc[(dfapp_exa['Cluster'].str.upper() == cluster1.upper()) ][\"CodeApplication\"]).head(1).values\n",
    "        if len(code_app) == 0: #Donc si il y a plusieurs codeApplication on met XH_ \n",
    "            code_app = \"XH_\"   \n",
    "        else : \n",
    "            code_app = str(code_app[0])\n",
    "    else :\n",
    "        code_app = code_app[0]\n",
    "    df.at[index,'CodeApplication'] = code_app #On ecrit donc le code CodeApp à cet endroit\n",
    "\n",
    "df.loc[df['TargetName'] == 'has_weya0333.net.intra.laposte.fr','CodeApplication'] = 'OM_'# Petite exeption dans lesquel j'attribue directement le codeApp\n",
    "    \n",
    "  \n",
    "df = df.loc[:, ~df.columns.str.contains('^Unnamed')] # Ceci permet juste de ne récupérer que notre metricGroup dans le fichier que l'on modifie \n",
    "df.to_csv(\"./Sortie_CSV/Alarmes_OEM_2022_ResourceState.csv\")#,sheet_name=\"Sheet1\")#On transforme le DataFrame en CSV"
   ]
  },
  {
   "attachments": {},
   "cell_type": "markdown",
   "metadata": {},
   "source": [
    "Script chapeau ."
   ]
  },
  {
   "cell_type": "code",
   "execution_count": 5,
   "metadata": {},
   "outputs": [
    {
     "name": "stdout",
     "output_type": "stream",
     "text": [
      "Script executed : ./Script/RessourceState.py\n",
      "b''\n",
      "Script executed : ./Script/ILOMN.py\n",
      "b''\n"
     ]
    }
   ],
   "source": [
    "import subprocess\n",
    "import pandas as pd\n",
    "\n",
    "\n",
    "\n",
    "#Dossier où sont rangés tous les scripts individuels des metricsGroup\n",
    "folder = './Script/'\n",
    "#Importation fichier excel metricsGroup\n",
    "df = pd.read_excel(\"Excel/Script.xlsx\",engine='openpyxl')\n",
    "#Pour chaque script dans la colonne Scripts\n",
    "\n",
    "\n",
    "\n",
    "\n",
    "for i in df[\"Script\"] :\n",
    "    \n",
    "    #Execute les scripts externe python\n",
    "    subprocess.call([\"python\", folder+i])\n",
    "    print(\"Script executed : \"+folder+i)\n",
    "\n",
    "    output = subprocess.check_output([\"python\", folder+i])\n",
    "    print(output)\n",
    "\n",
    "    \n",
    "        \n",
    "    \n",
    "    #Vérifier l'output des scripts externes executés"
   ]
  }
 ],
 "metadata": {
  "kernelspec": {
   "display_name": "base",
   "language": "python",
   "name": "python3"
  },
  "language_info": {
   "codemirror_mode": {
    "name": "ipython",
    "version": 3
   },
   "file_extension": ".py",
   "mimetype": "text/x-python",
   "name": "python",
   "nbconvert_exporter": "python",
   "pygments_lexer": "ipython3",
   "version": "3.9.13"
  },
  "orig_nbformat": 4
 },
 "nbformat": 4,
 "nbformat_minor": 2
}
